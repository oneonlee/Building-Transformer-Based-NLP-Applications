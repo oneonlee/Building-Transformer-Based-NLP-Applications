{
 "cells": [
  {
   "cell_type": "markdown",
   "metadata": {
    "id": "cuQ4D6Mj1tsY"
   },
   "source": [
    "<a href=\"https://www.nvidia.com/dli\"> <img src=\"../images/DLI_Header.png\" alt=\"Header\" style=\"width: 400px;\"/> </a>"
   ]
  },
  {
   "cell_type": "markdown",
   "metadata": {
    "id": "GQS-PLvU1tsd"
   },
   "source": [
    "# 헬스케어 사례 연구\n",
    "* [사례 연구: Medical Coding Startup](#사례-연구:-Medical-Coding-Startup)\n",
    "* [사례 연구: UnitedHealth Group ](#사례-연구:-UnitedHealth-Group ) "
   ]
  },
  {
   "cell_type": "markdown",
   "metadata": {
    "id": "OIpRWqET1tsd"
   },
   "source": [
    "# 사례 연구: Medical Coding Startup\n",
    "메디컬 코딩(Medical coding)은 임상의의 노트를 모든 진단 및 절차를 나타내는 영숫자 코드로 변환하는 과정입니다. 샌프란시스코에 본사를 둔 Fathom은 정밀도를 높이는 동시에 고된 메디컬 코딩 프로세스를 자동화하는 딥 러닝 도구를 개발하고 있습니다. 이 스타트업의 도구는 훈련된 임상 코더의 부족을 해결하고, 진료 서비스 비용 청구(Billing) 속도와 정밀도를 향상시키며, 사람 코더가 복잡한 사례와 후속 쿼리에만 집중할 수 있게 해줍니다.\n",
    "\n",
    "<img src=\"../images/med_coding.png\">\n",
    "\n",
    "## Deciphering the Doctor - 의사의 언어를 해독하기\n",
    "어떤 의사와의 진료 예약이든, 응급실 방문 또는 수술 시에도, 의료진은 환자와의 상호 작용을 설명하는 메모를 입력하고 있습니다. 일부 표준화된 형식이 있긴 하지만, 이러한 의료 기록들은 병원, 진료 또는 수술 유형, 환자와의 상호 작용 중 또는 이후에 메모가 작성되는지 여부에 따라 달라질 수 있습니다.\n",
    "\n",
    "메디컬 코더들은 모든 검사, 치료 및 절차를 코드 목록으로 분류함으로서, 이 비정형 텍스트를 이해하게 됩니다. 일단 코딩이 적용되면, 의료진의 진료 서비스 비용 청구(Billing) 부서는 보고서를 송장으로 변환하여 보험사와 환자로부터 지급액을 회수합니다.\n",
    "\n",
    "## Coding an AI that Codes\n",
    "기계 학습(Machine Learning)의 문제로서, 메디컬 코딩은 다중 레이블 분류(Multi-label classification)와 시퀀스 대 시퀀스 NLP(Sequence-to-sequence NLP)라는 두 가지 종류의 작업 요소를 공유합니다. 효과적인 AI는 의사의 소견서에 있는 텍스트를 이해하고 정확한 진단 목록과 진료 서비스 비용 청구 순서를 함께 태그를 부착해야 합니다.\n",
    "\n",
    "Fathom은 자연어 이해 모델 선두 주자인 BERT의 NVIDIA의 GPU 최적화 버전과 같은 도구를 사용하여 이러한 과제를 해결하고 있습니다. Fathom 팀은 TensorFlow 딥 러닝 프레임워크를 사용하고 텐서 코어가 제공하는 혼합 정밀 훈련(Mixed-precision training)에 의존하여 크기가 제각각 매우 다른 의료 문서의 대규모 처리를 가속화합니다.\n",
    "\n",
    "Fathom은 시간당 수백만 건 이상의 의료 서비스 처리를 위해 NVIDIA GPU를 추론(Inference)용으로 사용하여 쉽게 스케일 업할 수 있었습니다.\n",
    "\n",
    "더 자세한 내용은 [블로그](https://blogs.nvidia.com/blog/2019/09/12/fathom-ai-medical-coding/)를 확인하세요. "
   ]
  },
  {
   "cell_type": "markdown",
   "metadata": {
    "id": "2GhWQbTz1tse"
   },
   "source": [
    "# 사례 연구: UnitedHealth Group \n",
    "매일 백만 명 이상의 사람들이 UnitedHealth Group에 전화를 겁니다. 대형 조직과 마찬가지로 자동 음성 응답 시스템(Phone tree interface)은 \"1번을 눌러 응급 부서에 연락하십시오\" 또는 \"방사선 치료를 위해 6번을 누르세요\"와 같은 메시지를 표시합니다. UnitedHealth Group은 콜 시스템에 AI를 구현하였고, 자연어 처리 모델을 활용해 발신자가 찾고 있는 내용을 자동으로 파악하거나, 적절한 부서나 서비스 담당자에게 전달할 수 있습니다.\n",
    "\n",
    "저명한 책임 엔지니어인 Dima Rekesh에 따르면, AI를 사용하기 위한 주요 과제는 오류 율(Error rate)을 충분히 낮추는 것이라고 합니다. \"모델을 개발할 때는 충분히 신뢰할 수 있는 지점에서 정확성의 문턱을 넘어 모델의 예측 결과를 살펴보는 대상이 콜 센터 담당자건 의료 전문가건 간에 누구에게나 즐거운 경험이 될 수 있는 지점에 도달할 수 있도록 노력해야 합니다.\"\n",
    "\n",
    "Rekesh는 통화의 길이를 줄이고 환자와 고객에게 보다 신속하게 응답할 수 있도록 연결하는 목표를 가지고 뉴럴 네트워크를 개발하기 위해 노력하고 있습니다. 이를 위해 그는 NVIDIA 연구진이 개발한 NLP 및 음성 인식을 위한 오픈 소스 툴킷인 OpenSeq2Seq를 사용하고 있습니다.\n",
    "\n",
    "\"NLP에서, 딥 러닝만이 유일한 선택입니다,\"라고 그는 말했습니다. \"다른 솔루션은 정확하지 않습니다.\"\n",
    "\n",
    "또한, 딥 러닝 모델을 사용하면 상담 시 환자의 신원을 확인하는 프로세스를 간소화할 수 있습니다. 고객 담당 부서의 경우, AI 지원 인터페이스가 상담 중에 환자의 기록이나 담당자의 컴퓨터 화면에 권고 사항을 적절히 제공하여 도움을 줄 수 있습니다.\n",
    "\n",
    "더 자세한 내용은 [블로그](https://blogs.nvidia.com/blog/2019/04/17/unitedhealth-deep-learning-healthcare-services/)를 확인하세요."
   ]
  },
  {
   "cell_type": "markdown",
   "metadata": {
    "id": "N9p11Nj41tse"
   },
   "source": [
    "<a href=\"https://www.nvidia.com/dli\"> <img src=\"../images/DLI_Header.png\" alt=\"Header\" style=\"width: 400px;\"/> </a>"
   ]
  }
 ],
 "metadata": {
  "colab": {
   "name": "Healthcare.ipynb",
   "provenance": []
  },
  "kernelspec": {
   "display_name": "Python 3",
   "language": "python",
   "name": "python3"
  },
  "language_info": {
   "codemirror_mode": {
    "name": "ipython",
    "version": 3
   },
   "file_extension": ".py",
   "mimetype": "text/x-python",
   "name": "python",
   "nbconvert_exporter": "python",
   "pygments_lexer": "ipython3",
   "version": "3.8.3"
  },
  "pycharm": {
   "stem_cell": {
    "cell_type": "raw",
    "metadata": {
     "collapsed": false
    },
    "source": []
   }
  }
 },
 "nbformat": 4,
 "nbformat_minor": 4
}
