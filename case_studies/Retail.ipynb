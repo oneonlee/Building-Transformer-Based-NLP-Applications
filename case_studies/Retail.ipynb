{
 "cells": [
  {
   "cell_type": "markdown",
   "metadata": {
    "id": "i9m_Lfvi8_1M"
   },
   "source": [
    "<a href=\"https://www.nvidia.com/dli\"> <img src=\"../images/DLI_Header.png\" alt=\"Header\" style=\"width: 400px;\"/> </a>"
   ]
  },
  {
   "cell_type": "markdown",
   "metadata": {
    "id": "TvXmZqqs8_1N"
   },
   "source": [
    "# 리테일 사례 연구\n",
    "* [사례 연구: Walmart](#사례-연구:-Walmart)\n",
    "* [사례 연구: Dominos](#사례-연구:-Dominos) "
   ]
  },
  {
   "cell_type": "markdown",
   "metadata": {
    "id": "rakS0Aa18_1O"
   },
   "source": [
    "# 사례 연구: Walmart\n",
    "Walmart는 고객 경험 향상에서부터 월마트 스토어의 직원을 도와주기 위한 솔루션 개발에 이르기까지 다양한 비즈니스 영역에서 NLP 솔루션을 사용합니다.\n",
    "\n",
    "## Personalization and Search\n",
    "전자 상거래에서 NLP를 사용하면 고객 검색 및 항목 설명/속성을 더 잘 이해할 수 있어 Walmart의 개인화추천 팀이 고객에게 더 나은 권장 항목을 제공할 수 있습니다.  이를 통해 전환율이 높아지고, 교차 판매(Cross-selling) 기회가 발생하며, 고객 환경이 개선되는 결과를 낳았습니다.\n",
    "\n",
    "NLP는 '60\" 플라즈마 TV' 또는 '60인치 플라즈마 TV'와 같이 부정확한 검색 질의에서 언어의 의미를 이해하는 데 사용됩니다.  NLP는 또한 CV와 함께 시각적 검색에서 권장되는 제품과 같은 제품을 연결하는 데 사용됩니다.\n",
    "\n",
    "<img src=\"../images/Walmart_chairs.png\">\n",
    "          \n",
    "CV 알고리즘과 NLP 알고리즘을 결합하면, 제품의 사진을 찍으면 제품의 설명이 표시되고, 제품을 분류해주어 고객이 유연하게 대응할 수 있습니다.   사용자는 시각적 이미지를 사용하여 검색할 수 있으며, 시스템은 항목 간의 관계에 대한 추가적인 이해를 위한 사항을 제공합니다. 예를 들어 소파와 의자는 두 개의 별도 공급업체에서 오고 이름도 다를 수 있지만 시각적으로 유사하고 텍스트 설명이 유사한 것처럼 보일 수 있습니다. CV 알고리즘과 NLP 알고리즘은 임베딩을 만듭니다.  그 다음 이 정보를 사용하여 더 나은 검색 결과 및 권장 사항을 제공합니다.\n",
    " \n",
    "또한 Walmart에는 수십만 개의 공급업체에서 제공하는 수백만 개의 제품이 있습니다. 이러한 제품에 대한 이미지 또는 텍스트 설명은 자주 업데이트되며, 대개 하루에 100,000개의 업데이트가 이루어지고 있습니다.  CV/NLP가 없다면 Walmart는 이러한 제품을 카테고리로 재분류할 수 없으며 제품 간의 관계를 이해할 수 없을 것입니니다.\n",
    " \n",
    "## Grocery App\n",
    "[Walmart grocery application](https://corporate.walmart.com/newsroom/2019/04/02/want-walmart-to-help-you-grocery-shop-with-our-new-voice-capabilities-just-say-the-word) 앱의 음성 기능은 ASR 및 NLP를 사용하여 고객이 상품을 바구니에 담을 수 있도록 도와줍니다. 앱은 고객의 컨텍스트를 이해합니다.  예를 들어, 고객이 \"내 카트에 우유 추가\"라고 말하면, 앱은 고객이 정기적으로 구매하는 특정 우유를 추가하도록 할 것입니다. \"그레이트 밸류사의 유기농 1% 저지방 우유 1L\"라고 말하는 대신에, 그들은 간단히 \"우유\"라고 말할 수 있습니다.\n",
    "\n",
    "## \"Ask Sam\" Employee Assistant - 직원 어시스턴트 \n",
    "Sam's Club은 최근 \"Ask Sam\"이라고 불리는 모바일 애플리케이션을 선보였는데, 이것은 직원들이 일을 수행하고 회원들을 돕는 데 필요한 답을 찾을 수 있도록 도와주는 음성 비서입니다. 이 앱 덕분에, 직원들은 회사 문서와 제품 정보에 액세스하기 위해 뒷 방의 데스크톱 컴퓨터로 가는 대신 판매층에 머물 수 있습니다.\n",
    "이러한 판도를 바꾸는 앱을 개발하기 위해서는 뛰어난 엔지니어링 팀이 필요했습니다. \"Ask Sam\" 앱은 11명의 엔지니어 그룹에 의해 단 5개월 만에 개발졌습니다. [기사](https://corporate.samsclub.com/article/the-story-behind-ask-sam-the-associate-app-with-all-the-answers)를 읽고 \"Ask Sam\" 개발 팀을 이끌고 있는 Craig Robinson과 함께 앱에 대해 자세히 알아보고 직원들로부터 피드백을 받아 더 나은 서비스를 제공할 수 있었던 방법에 대해 알아보십시오.\n"
   ]
  },
  {
   "cell_type": "markdown",
   "metadata": {
    "id": "McyzlmK68_1O"
   },
   "source": [
    "# 사례 연구: Dominos\n",
    "피자는 도메인별 언어를 가지고 있습니다. \"Supreme\", \"Meat Lovers\", \"Chicago\", \"New York\", \"Sicilian\", \"Hawaiian\" 등은 모두 일반적인 언어 맥락에서 한 가지를 의미하는 단어이지만 피자 세계에서는 전혀 다른 단어입니다. 또한, \"포테이토\"와 \"토마토\"와 비슷하게 들리는 단어들은 전혀 말이 되지 않습니다. \"포테이토\" 소스가 들어간 피자는 없기 때문에, 이 경우,  ASR/NLP 모델을 미세 조정하면 추가 정확도가 높아집니다.\n",
    " \n",
    "더불어 전화상으로 고객 주문에 NLP를 사용할 수 있어 Domino는 인력을 확장할 수 있었습니다. 직원들은 주문과 같은 일상적인 작업 대신 피자 품질 및 배달과 같은 더 중요한 작업에 집중할 수 있습니다.\n",
    " \n",
    "Domino의 데이터 사이언스 매니저 Jack Fragoso는 [블로그](https://blogs.nvidia.com/blog/2020/01/13/dominos-pizza-ai/)에서 ASR 사용 사례에 대해 설명합니다.\n",
    " \n",
    "<blockquote><p><i>모델 지연 시간은 매우 중요하므로 프로덕션에서 AI 모델을 호스팅하기 위해 T4를 사용하여 추론(Inference) 스택을 구축하고 있습니다. 대기 시간이 50밀리초에서 10ms 미만으로 단축되면서 지연 시간이 상당히 개선되었습니다.</i></p></blockquote>"
   ]
  },
  {
   "cell_type": "markdown",
   "metadata": {
    "id": "i_hGOcX_8_1P"
   },
   "source": [
    "<a href=\"https://www.nvidia.com/dli\"> <img src=\"../images/DLI_Header.png\" alt=\"Header\" style=\"width: 400px;\"/> </a>"
   ]
  }
 ],
 "metadata": {
  "colab": {
   "name": "Retail.ipynb",
   "provenance": []
  },
  "kernelspec": {
   "display_name": "Python 3",
   "language": "python",
   "name": "python3"
  },
  "language_info": {
   "codemirror_mode": {
    "name": "ipython",
    "version": 3
   },
   "file_extension": ".py",
   "mimetype": "text/x-python",
   "name": "python",
   "nbconvert_exporter": "python",
   "pygments_lexer": "ipython3",
   "version": "3.8.3"
  },
  "pycharm": {
   "stem_cell": {
    "cell_type": "raw",
    "metadata": {
     "collapsed": false
    },
    "source": []
   }
  }
 },
 "nbformat": 4,
 "nbformat_minor": 4
}
