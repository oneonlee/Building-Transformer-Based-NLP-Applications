{
 "cells": [
  {
   "cell_type": "markdown",
   "metadata": {
    "id": "4bnyWFvrhQlg"
   },
   "source": [
    "<a href=\"https://www.nvidia.com/dli\"> <img src=\"images/DLI_Header.png\" alt=\"Header\" style=\"width: 400px;\"/> </a>"
   ]
  },
  {
   "cell_type": "markdown",
   "metadata": {
    "id": "NGlPiicbhQlh"
   },
   "source": [
    "# 트랜스포머 기반 자연어 처리 애플리케이션 구축\n",
    "### 2부: Self-Supervision, BERT, and Beyond\n",
    "\n",
    "이 랩의 목표는 사전 트레이닝된 대규모 고성능 Transformer 기반 언어 모델의 지식을 전수하여 2개의 예제 NLP(Natural Language Processing) 애플리케이션 작업인 *텍스트 분류*와 *NER(명명된 엔터티 인식)*을 구축하는 것입니다.\n",
    "\n",
    "<br><br><br>\n",
    "<img src=\"images/bert_pretrain_workflow.png\" width=800>\n"
   ]
  },
  {
   "cell_type": "markdown",
   "metadata": {
    "id": "Cu5dsO6DhQli"
   },
   "source": [
    "## 목차\n",
    "\n",
    "1. [데이터 살펴보기](010_ExploreData.ipynb)<br>\n",
    "    2개의 클래스 프로젝트에 레이블링된 PubMed Abstract 793개로 구성된 [NCBI 질병 언어 자료](https://www.ncbi.nlm.nih.gov/CBBresearch/Dogan/DISEASE/)에서 가져온 데이터세트를 사용합니다. 이러한 데이터세트의 세부 정보를 살펴보고 이런 유형의 애플리케이션에 맞춰 _자신의 데이터세트_  를 조정할 수 있는 방법에 대한 인사이트를 얻을 수 있습니다.<br>\n",
    "    다음과 같은 데이터를 살펴보게 됩니다.:\n",
    "    - Corpus Annotated Data (코퍼스 주석 처리된 데이터)\n",
    "    - 텍스트 분류 데이터 세트\n",
    "    - NER 데이터세트\n",
    "<br><br>\n",
    "1. [텍스트 분류자(Text Classifier) 구축하기(NVIDIA NeMo v1.0)](020_TextClassification.ipynb)<br>\n",
    "    [NVIDIA NeMo](https://developer.nvidia.com/nvidia-nemo) 오픈 소스 툴킷을 활용하여 BERT 기반 다중 클래스 분류 프로젝트를 구축할 예정입니다. 프레임워크는 [PyTorch Lightning](https://www.pytorchlightning.ai/)에 기반이 되어 있습니다.<br>\n",
    "    다음과 같은 내용을 배웁니다.:\n",
    "    - 텍스트 분류 프로젝트 구축 방법\n",
    "    - 커맨드 라인(명령줄)에서 실험(Experiment)을 빠르게 실행해 보는 방법\n",
    "    - PyTorch Lightning를 활용한 트레이닝 및 테스트 방법     \n",
    "    - 사전 훈련된 BERT 모델 선택 방법 \n",
    "    - 모델 정확도 시각화 방법\n",
    "<br><br>\n",
    "1. [명명된 엔티티 인식기 구축(NVIDIA NeMo v1.0)](030_NamedEntityRecognition.ipynb)<br>\n",
    "    NVIDIE Nemo를 활용하여 도메인별 명명된 엔티티 인식기(NER, named entitity recognition)을 구축할 예정입니다.<br>\n",
    "    다음과 같은 내용을 배웁니다.:\n",
    "    - 토큰 분류 (NER 태스크) 프로젝트 구축\n",
    "    - 커맨드 라인(명령줄)에서 토큰 분류기 트레이닝 \n",
    "    - 도메인별 모델 적용하기\n",
    "    - 저장된 체크포인트에서 NER 모델 테스트하기\n",
    "<br><br>"
   ]
  },
  {
   "cell_type": "markdown",
   "metadata": {
    "id": "kgEIwnUthQli"
   },
   "source": [
    "## 보충 자료\n",
    "- [리테일 사례 연구](case_studies/Retail.ipynb)\n",
    "- [헬스케어 사례 연구](case_studies/Healthcare.ipynb)\n",
    "<br><br>"
   ]
  },
  {
   "cell_type": "markdown",
   "metadata": {
    "id": "CjtzYgpvhQlj"
   },
   "source": [
    "## JupyterLab\n",
    "이 핸즈온 랩에서는 [JupyterLab](https://jupyterlab.readthedocs.io/en/stable/)을 사용하여 환경을 관리합니다.  [JupyterLab 인터페이스](https://jupyterlab.readthedocs.io/en/stable/user/interface.html)는 인터랙티브 iPython 노트북에 액세스할 수 있을 뿐 아니라 Ubuntu 운영 체제로 환경 및 터미널 창의 폴더 구조에 액세스할 수 있는 대시보드입니다. 표시되는 첫 번째 보기에는 상단의 **메뉴 모음**, **왼쪽 사이드바**의 **파일 탐색기**, 처음에 \"시작 관리자\" 페이지로 열리는 **메인 작업 영역**이 포함되어 있습니다. \n",
    "\n",
    "<img src=\"images/jl_launcher.png\">\n",
    "\n",
    "파일 탐색기는 다른 파일 탐색기와 같은 방법으로 탐색할 수 있습니다. 항목을 더블 클릭하면 내용이 포함된 새 탭이 열립니다.\n",
    "\n",
    "메인 작업 영역에는 필요에 따라 닫거나 이동하거나 편집할 수 있는 탭으로 구분된 열린 파일 보기가 포함되어 있습니다. \n",
    "\n",
    "이 노트북을 포함한 노트북은 일련의 콘텐츠와 코드 **셀**로 구성됩니다.  코드 셀에서 코드를 실행하려면 셀을 강조 표시한 상태에서 `Shift+Enter`를 누르거나 위의 메뉴 모음에서 \"실행(Run)\" 버튼을 누르십시오. 때로는 콘텐츠 셀이 편집 모드로 전환됩니다. `Shift+Enter`를 누르면 읽을 수 있는 형식으로 다시 전환됩니다.\n",
    "\n",
    "아래 셀에서 간단한 출력 문을 실행해 보십시오."
   ]
  },
  {
   "cell_type": "code",
   "execution_count": null,
   "metadata": {
    "id": "JJIPW8PNhQlk"
   },
   "outputs": [],
   "source": [
    "# Highlight this cell and click [Shift+Enter] to execute\n",
    "print('This is just a simple print statement')"
   ]
  },
  {
   "cell_type": "markdown",
   "metadata": {
    "id": "aP98yua1hQlk"
   },
   "source": [
    "<h2 style=\"color:green;\">축하합니다!</h2>\n",
    "\n",
    "본 코스에서 이번 섹션에 대한 정보를 검토했으며 이제 시작할 준비가 되셨습니다.<br>\n",
    "[1.0 데이터 살펴보기]로 이동하세요! (010_ExploreData.ipynb).\n"
   ]
  },
  {
   "cell_type": "markdown",
   "metadata": {
    "id": "dLhlIQ_ZhQll"
   },
   "source": [
    "<a href=\"https://www.nvidia.com/dli\"> <img src=\"images/DLI_Header.png\" alt=\"Header\" style=\"width: 400px;\"/> </a>"
   ]
  }
 ],
 "metadata": {
  "colab": {
   "collapsed_sections": [],
   "name": "000_Introduction.ipynb",
   "provenance": []
  },
  "kernelspec": {
   "display_name": "Python 3",
   "language": "python",
   "name": "python3"
  },
  "language_info": {
   "codemirror_mode": {
    "name": "ipython",
    "version": 3
   },
   "file_extension": ".py",
   "mimetype": "text/x-python",
   "name": "python",
   "nbconvert_exporter": "python",
   "pygments_lexer": "ipython3",
   "version": "3.8.8"
  }
 },
 "nbformat": 4,
 "nbformat_minor": 4
}
